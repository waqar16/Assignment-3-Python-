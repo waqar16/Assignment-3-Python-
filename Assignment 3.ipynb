{
 "cells": [
  {
   "cell_type": "code",
   "execution_count": 37,
   "id": "6e29c4db",
   "metadata": {},
   "outputs": [
    {
     "name": "stdout",
     "output_type": "stream",
     "text": [
      "Twinkle, twinkle, little star, \n",
      "\tHow I wonder what you are! \n",
      "\t\tUp above the world so high, \n",
      "\t\tLike a diamond in the sky. \n",
      "Twinkle, twinkle, little star, \n",
      "\tHow I wonder what you are\n"
     ]
    }
   ],
   "source": [
    "#  Write a Python program to print the following string in a specific format (see the \n",
    "# output). \n",
    "# Twinkle, twinkle, little star, \n",
    " \n",
    "# How I wonder what you are! \n",
    " \n",
    "# Up above the world so high, \n",
    "# Like a diamond in the sky. \n",
    " \n",
    "# Twinkle, twinkle, little star, \n",
    " \n",
    "# How I wonder what you are \n",
    "\n",
    "print(\"Twinkle, twinkle, little star, \\n\\tHow I wonder what you are! \\n\\t\\tUp above the world so high, \\n\\t\\tLike a diamond in the sky. \\nTwinkle, twinkle, little star, \\n\\tHow I wonder what you are\") "
   ]
  },
  {
   "cell_type": "code",
   "execution_count": 4,
   "id": "aedb2d45",
   "metadata": {},
   "outputs": [
    {
     "name": "stdout",
     "output_type": "stream",
     "text": [
      "The python version i am using is:\n",
      " 3.8.8 (default, Apr 13 2021, 15:08:03) [MSC v.1916 64 bit (AMD64)]\n"
     ]
    }
   ],
   "source": [
    "# Write a Python program to get the Python version you are using \n",
    "\n",
    "import sys\n",
    "\n",
    "print(\"The python version i am using is:\\n\", sys.version)"
   ]
  },
  {
   "cell_type": "code",
   "execution_count": 5,
   "id": "584a9b06",
   "metadata": {},
   "outputs": [
    {
     "name": "stdout",
     "output_type": "stream",
     "text": [
      "Current date and time is : \n",
      "2021-10-23 18:21:27\n"
     ]
    }
   ],
   "source": [
    "# Write a Python program to display the current date and time. \n",
    "\n",
    "import datetime\n",
    "\n",
    "now = datetime.datetime.now()\n",
    "\n",
    "print (\"Current date and time is : \")\n",
    "print (now.strftime(\"%Y-%m-%d %H:%M:%S\"))"
   ]
  },
  {
   "cell_type": "code",
   "execution_count": 12,
   "id": "c23adde1",
   "metadata": {},
   "outputs": [
    {
     "name": "stdout",
     "output_type": "stream",
     "text": [
      "Input Radius of Circle: 3\n",
      "The Area Of The Circle is:  28.274333882308138\n"
     ]
    }
   ],
   "source": [
    "# Write a Python program which accepts the radius of a circle from the user and compute \n",
    "# the area\n",
    "\n",
    "import math\n",
    "\n",
    "r = float(input(\"Input Radius of Circle: \"))\n",
    "\n",
    "a = str(math.pi * r**2)\n",
    "\n",
    "print(\"The Area Of The Circle is: \", a)"
   ]
  },
  {
   "cell_type": "code",
   "execution_count": 14,
   "id": "b4ccbeae",
   "metadata": {},
   "outputs": [
    {
     "name": "stdout",
     "output_type": "stream",
     "text": [
      "Input your First Name : Waqar\n",
      "Input your Last Name : Khan\n",
      "Khan Waqar\n"
     ]
    }
   ],
   "source": [
    "# Write a Python program which accepts the user's first and last name and print them in \n",
    "# reverse order with a space between them. \n",
    "\n",
    "firstname = input(\"Input your First Name : \")\n",
    "lastname = input(\"Input your Last Name : \")\n",
    "print (lastname + \" \" + firstname)"
   ]
  },
  {
   "cell_type": "code",
   "execution_count": 16,
   "id": "cfdeae8c",
   "metadata": {},
   "outputs": [
    {
     "name": "stdout",
     "output_type": "stream",
     "text": [
      "Input first value : 3\n",
      "Input second value : 3\n",
      "6.0\n"
     ]
    }
   ],
   "source": [
    "# Write a python program which takes two inputs from user and print them addition\n",
    "\n",
    "first_value = float(input(\"Input first value : \"))\n",
    "second_value = float(input(\"Input second value : \"))\n",
    "print (str(first_value + second_value))"
   ]
  },
  {
   "cell_type": "code",
   "execution_count": 20,
   "id": "f96d7e26",
   "metadata": {},
   "outputs": [
    {
     "name": "stdout",
     "output_type": "stream",
     "text": [
      "Please enter English Marks: 76\n",
      "Please enter Math score: 78\n",
      "Please enter Computer Marks: 66\n",
      "Please enter Physics Marks: 55\n",
      "Please enter Chemistry Marks: 87\n",
      "\n",
      "Total Marks = 362.00\n",
      "Average Marks = 72.40\n",
      "Marks Percentage = 72.40\n"
     ]
    }
   ],
   "source": [
    "# Write a program which takes 5 inputs from user for different subject’s marks, total it \n",
    "# and generate mark sheet using grades ?\n",
    "\n",
    "english = float(input(\"Please enter English Marks: \"))\n",
    "math = float(input(\"Please enter Math score: \"))\n",
    "computers = float(input(\"Please enter Computer Marks: \"))\n",
    "physics = float(input(\"Please enter Physics Marks: \"))\n",
    "chemistry = float(input(\"Please enter Chemistry Marks: \"))\n",
    " \n",
    "total = english + math + computers + physics + chemistry\n",
    "average = total / 5\n",
    "percentage = (total / 500) * 100\n",
    " \n",
    "print(\"\\nTotal Marks = %.2f\"  %total)\n",
    "print(\"Average Marks = %.2f\"  %average)\n",
    "print(\"Marks Percentage = %.2f\"  %percentage)"
   ]
  },
  {
   "cell_type": "code",
   "execution_count": 21,
   "id": "b99ba738",
   "metadata": {},
   "outputs": [
    {
     "name": "stdout",
     "output_type": "stream",
     "text": [
      "Enter a number: 12\n",
      "This is an even number.\n"
     ]
    }
   ],
   "source": [
    "# Write a program which take input from user and identify that the given number is even \n",
    "# or odd?\n",
    "\n",
    "num = int(input(\"Enter a number: \"))\n",
    "mod = num % 2\n",
    "if mod > 0:\n",
    "    print(\"This is an odd number.\")\n",
    "else:\n",
    "    print(\"This is an even number.\")"
   ]
  },
  {
   "cell_type": "code",
   "execution_count": 29,
   "id": "aa7ab831",
   "metadata": {},
   "outputs": [
    {
     "name": "stdout",
     "output_type": "stream",
     "text": [
      "Length of list is : 6\n"
     ]
    }
   ],
   "source": [
    "# Write a program which print the length of the list?\n",
    "\n",
    "list = [12, 25, 45, 88, 11, 96]\n",
    "\n",
    "counter = 0\n",
    "for i in list:\n",
    "      \n",
    "    counter = counter + 1\n",
    "  \n",
    "print (\"Length of list is : \" + str(counter))"
   ]
  },
  {
   "cell_type": "code",
   "execution_count": 30,
   "id": "4ba368d0",
   "metadata": {},
   "outputs": [
    {
     "name": "stdout",
     "output_type": "stream",
     "text": [
      "15\n"
     ]
    }
   ],
   "source": [
    "# Write a Python program to sum all the numeric items in a list\n",
    "\n",
    "List = [1,2,3,4,5]\n",
    "added = 0\n",
    "for item in List:\n",
    "    added+=item\n",
    "print(added)"
   ]
  },
  {
   "cell_type": "code",
   "execution_count": 31,
   "id": "5038a6d5",
   "metadata": {},
   "outputs": [
    {
     "name": "stdout",
     "output_type": "stream",
     "text": [
      "Largest numerical value is:  52\n"
     ]
    }
   ],
   "source": [
    "# Write a Python program to get the largest number from a numeric list\n",
    "\n",
    "a=[18, 52, 23, 41, 32]\n",
    "\n",
    "\n",
    "a.sort()\n",
    "\n",
    "\n",
    "last = a[-1]\n",
    "\n",
    "\n",
    "print(\"Largest numerical value is: \",last)"
   ]
  },
  {
   "cell_type": "code",
   "execution_count": 38,
   "id": "bb3033b0",
   "metadata": {},
   "outputs": [
    {
     "name": "stdout",
     "output_type": "stream",
     "text": [
      "1\n",
      "2\n",
      "3\n",
      "4\n"
     ]
    }
   ],
   "source": [
    "# Write a program that prints out all the elements of the list that are less than 5.\n",
    "\n",
    "a = [1, 2, 3, 4, 5]\n",
    "for i in a:\n",
    "    if i < 5:\n",
    "        print(i)"
   ]
  },
  {
   "cell_type": "code",
   "execution_count": null,
   "id": "d3e3f016",
   "metadata": {},
   "outputs": [],
   "source": []
  }
 ],
 "metadata": {
  "kernelspec": {
   "display_name": "Python 3",
   "language": "python",
   "name": "python3"
  },
  "language_info": {
   "codemirror_mode": {
    "name": "ipython",
    "version": 3
   },
   "file_extension": ".py",
   "mimetype": "text/x-python",
   "name": "python",
   "nbconvert_exporter": "python",
   "pygments_lexer": "ipython3",
   "version": "3.8.8"
  }
 },
 "nbformat": 4,
 "nbformat_minor": 5
}
